{
 "cells": [
  {
   "cell_type": "code",
   "execution_count": 10,
   "metadata": {},
   "outputs": [],
   "source": [
    "import os\n",
    "import matplotlib.pyplot as plt\n",
    "from PIL import Image\n",
    "from tqdm import notebook, tqdm\n",
    "import seaborn as sns\n",
    "from collections import Counter"
   ]
  },
  {
   "cell_type": "code",
   "execution_count": 2,
   "metadata": {},
   "outputs": [
    {
     "data": {
      "text/plain": [
       "1786"
      ]
     },
     "execution_count": 2,
     "metadata": {},
     "output_type": "execute_result"
    }
   ],
   "source": [
    "root = \"/mnt/12TB/suad_23\"\n",
    "imgs = list(sorted(os.listdir(os.path.join(root, \"inputs\"))))\n",
    "# targets = list(sorted(os.listdir(os.path.join(root,\n",
    "#                                 \"semantic_annotations\"))))\n",
    "len(imgs)"
   ]
  },
  {
   "attachments": {},
   "cell_type": "markdown",
   "metadata": {},
   "source": [
    "## Check image sizes"
   ]
  },
  {
   "cell_type": "code",
   "execution_count": 6,
   "metadata": {},
   "outputs": [
    {
     "name": "stderr",
     "output_type": "stream",
     "text": [
      "100%|██████████| 1786/1786 [01:15<00:00, 23.63it/s]\n"
     ]
    }
   ],
   "source": [
    "width = []\n",
    "height = []\n",
    "\n",
    "for file in tqdm(imgs):\n",
    "    img = Image.open(root + \"/inputs/\"+file)\n",
    "    img.load()\n",
    "    w, h = img.size\n",
    "    width.append(w)\n",
    "    height.append(h)"
   ]
  },
  {
   "cell_type": "code",
   "execution_count": 11,
   "metadata": {},
   "outputs": [
    {
     "data": {
      "text/plain": [
       "Counter({2200: 1431, 2150: 160, 2250: 195})"
      ]
     },
     "execution_count": 11,
     "metadata": {},
     "output_type": "execute_result"
    }
   ],
   "source": [
    "Counter(height)"
   ]
  },
  {
   "cell_type": "code",
   "execution_count": 12,
   "metadata": {},
   "outputs": [
    {
     "data": {
      "text/plain": [
       "Counter({1550: 1162, 1500: 430, 1400: 194})"
      ]
     },
     "execution_count": 12,
     "metadata": {},
     "output_type": "execute_result"
    }
   ],
   "source": [
    "Counter(width)"
   ]
  },
  {
   "cell_type": "code",
   "execution_count": 9,
   "metadata": {},
   "outputs": [
    {
     "data": {
      "text/plain": [
       "<AxesSubplot: xlabel='width', ylabel='height'>"
      ]
     },
     "execution_count": 9,
     "metadata": {},
     "output_type": "execute_result"
    },
    {
     "data": {
      "image/png": "[encoded data removed]",
      "text/plain": [
       "<Figure size 640x480 with 1 Axes>"
      ]
     },
     "metadata": {},
     "output_type": "display_data"
    }
   ],
   "source": [
    "plt.xlim(min(width)-50, max(width)+50)\n",
    "plt.ylim(min(height)-50, max(height)+50)\n",
    "plt.xlabel(\"width\")\n",
    "plt.ylabel(\"height\")\n",
    "sns.scatterplot(x=width, y=height)"
   ]
  }
 ],
 "metadata": {
  "kernelspec": {
   "display_name": "suad_23_semseg",
   "language": "python",
   "name": "python3"
  },
  "language_info": {
   "codemirror_mode": {
    "name": "ipython",
    "version": 3
   },
   "file_extension": ".py",
   "mimetype": "text/x-python",
   "name": "python",
   "nbconvert_exporter": "python",
   "pygments_lexer": "ipython3",
   "version": "3.9.15"
  },
  "orig_nbformat": 4,
  "vscode": {
   "interpreter": {
    "hash": "2c4a2472f17e45ce6ca1f54be2d00603730666fb24637a06fd7e2fb6ccb9e6ac"
   }
  }
 },
 "nbformat": 4,
 "nbformat_minor": 2
}
